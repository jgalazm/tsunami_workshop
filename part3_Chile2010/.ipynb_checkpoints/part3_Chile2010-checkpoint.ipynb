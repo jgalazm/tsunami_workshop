{
 "cells": [
  {
   "cell_type": "code",
   "execution_count": 1,
   "metadata": {
    "collapsed": false
   },
   "outputs": [
    {
     "data": {
      "text/html": [
       "<link href='http://fonts.googleapis.com/css?family=Alegreya+Sans:100,300,400,500,700,800,900,100italic,300italic,400italic,500italic,700italic,800italic,900italic' rel='stylesheet' type='text/css'>\n",
       "<link href='http://fonts.googleapis.com/css?family=Arvo:400,700,400italic' rel='stylesheet' type='text/css'>\n",
       "<link href='http://fonts.googleapis.com/css?family=PT+Mono' rel='stylesheet' type='text/css'>\n",
       "<link href='http://fonts.googleapis.com/css?family=Shadows+Into+Light' rel='stylesheet' type='text/css'>\n",
       "<link href='http://fonts.googleapis.com/css?family=Nixie+One' rel='stylesheet' type='text/css'>\n",
       "<link href='https://fonts.googleapis.com/css?family=Source+Code+Pro' rel='stylesheet' type='text/css'>\n",
       "<style>\n",
       "\n",
       "@font-face {\n",
       "    font-family: \"Computer Modern\";\n",
       "    src: url('http://mirrors.ctan.org/fonts/cm-unicode/fonts/otf/cmunss.otf');\n",
       "}\n",
       "\n",
       "#notebook_panel { /* main background */\n",
       "    background: rgb(245,245,245);\n",
       "}\n",
       "\n",
       "div.cell { /* set cell width */\n",
       "    width: 750px;\n",
       "}\n",
       "\n",
       "div #notebook { /* centre the content */\n",
       "    background: #fff; /* white background for content */\n",
       "    width: 1000px;\n",
       "    margin: auto;\n",
       "    padding-left: 0em;\n",
       "}\n",
       "\n",
       "#notebook li { /* More space between bullet points */\n",
       "    margin-top:0.8em;\n",
       "}\n",
       "\n",
       "/* draw border around running cells */\n",
       "div.cell.border-box-sizing.code_cell.running { \n",
       "    border: 1px solid #111;\n",
       "}\n",
       "\n",
       "/* Put a solid color box around each cell and its output, visually linking them*/\n",
       "div.cell.code_cell {\n",
       "    background-color: rgb(256,256,256); \n",
       "    border-radius: 0px; \n",
       "    padding: 0.5em;\n",
       "    margin-left:1em;\n",
       "    margin-top: 1em;\n",
       "}\n",
       "\n",
       "div.text_cell_render{\n",
       "    font-family: 'Alegreya Sans' sans-serif;\n",
       "    line-height: 140%;\n",
       "    font-size: 125%;\n",
       "    font-weight: 400;\n",
       "    width:600px;\n",
       "    margin-left:auto;\n",
       "    margin-right:auto;\n",
       "}\n",
       "\n",
       "\n",
       "/* Formatting for header cells */\n",
       ".text_cell_render h1 {\n",
       "    font-family: 'Nixie One', serif;\n",
       "    font-style:regular;\n",
       "    font-weight: 400;    \n",
       "    font-size: 45pt;\n",
       "    line-height: 100%;\n",
       "    color: rgb(0,51,102);\n",
       "    margin-bottom: 0.5em;\n",
       "    margin-top: 0.5em;\n",
       "    display: block;\n",
       "}\n",
       "\n",
       ".text_cell_render h2 {\n",
       "    font-family: 'Nixie One', serif;\n",
       "    font-weight: 400;\n",
       "    font-size: 30pt;\n",
       "    line-height: 100%;\n",
       "    color: rgb(0,51,102);\n",
       "    margin-bottom: 0.1em;\n",
       "    margin-top: 0.3em;\n",
       "    display: block;\n",
       "}\t\n",
       "\n",
       ".text_cell_render h3 {\n",
       "    font-family: 'Nixie One', serif;\n",
       "    margin-top:16px;\n",
       "    font-size: 22pt;\n",
       "    font-weight: 600;\n",
       "    margin-bottom: 3px;\n",
       "    font-style: regular;\n",
       "    color: rgb(102,102,0);\n",
       "}\n",
       "\n",
       ".text_cell_render h4 {    /*Use this for captions*/\n",
       "    font-family: 'Nixie One', serif;\n",
       "    font-size: 14pt;\n",
       "    text-align: center;\n",
       "    margin-top: 0em;\n",
       "    margin-bottom: 2em;\n",
       "    font-style: regular;\n",
       "}\n",
       "\n",
       ".text_cell_render h5 {  /*Use this for small titles*/\n",
       "    font-family: 'Nixie One', sans-serif;\n",
       "    font-weight: 400;\n",
       "    font-size: 16pt;\n",
       "    color: rgb(163,0,0);\n",
       "    font-style: italic;\n",
       "    margin-bottom: .1em;\n",
       "    margin-top: 0.8em;\n",
       "    display: block;\n",
       "}\n",
       "\n",
       ".text_cell_render h6 { /*use this for copyright note*/\n",
       "    font-family: 'PT Mono', sans-serif;\n",
       "    font-weight: 300;\n",
       "    font-size: 9pt;\n",
       "    line-height: 100%;\n",
       "    color: grey;\n",
       "    margin-bottom: 1px;\n",
       "    margin-top: 1px;\n",
       "}\n",
       "\n",
       ".CodeMirror{\n",
       "    font-family: \"Source Code Pro\";\n",
       "    font-size: 100%;\n",
       "}\n",
       "\n",
       ".alert-box {\n",
       "    padding:10px 10px 10px 36px;\n",
       "    margin:5px;\n",
       "}\n",
       "\n",
       ".success {\n",
       "    color:#666600;\n",
       "    background:rgb(240,242,229);\n",
       "}\n",
       "</style>\n",
       "<script>\n",
       "    MathJax.Hub.Config({\n",
       "                        TeX: {\n",
       "                           extensions: [\"AMSmath.js\"],\n",
       "                           equationNumbers: { autoNumber: \"AMS\", useLabelIds: true}\n",
       "                           },\n",
       "                tex2jax: {\n",
       "                    inlineMath: [ ['$','$'], [\"\\\\(\",\"\\\\)\"] ],\n",
       "                    displayMath: [ ['$$','$$'], [\"\\\\[\",\"\\\\]\"] ]\n",
       "                },\n",
       "                displayAlign: 'center', // Change this to 'center' to center equations.\n",
       "                \"HTML-CSS\": {\n",
       "                    styles: {'.MathJax_Display': {\"margin\": 4}}\n",
       "                }\n",
       "        });\n",
       "</script>"
      ],
      "text/plain": [
       "<IPython.core.display.HTML object>"
      ]
     },
     "execution_count": 1,
     "metadata": {},
     "output_type": "execute_result"
    }
   ],
   "source": [
    "from IPython.core.display import HTML\n",
    "css_file = '../style/style.css'\n",
    "HTML(open(css_file, \"r\").read())"
   ]
  },
  {
   "cell_type": "markdown",
   "metadata": {},
   "source": [
    "# Workshop on Modelling Tsunamis and Flash Flood Inundation with GeoClaw \n",
    "\n",
    "## Part 3: \"Propagation of the Chile, 2010 tsunami\"\n",
    "\n",
    "### José Galaz\n",
    "[https://jgalazm.github.io](https://jgalazm.github.io)"
   ]
  },
  {
   "cell_type": "markdown",
   "metadata": {},
   "source": [
    "## Introduction\n",
    "\n",
    "The objective of this workshop is to work on simple cases that may allow the student to experience some example applications of the *GeoClaw* software, completely functional in a virtual machine, and that may serve as starting point to model more complex scenarios.\n",
    "\n",
    "GeoClaw is a part of [ClawPack](https://www.clawpack.org), a free open source software developed by the University of Washington. It consists of several packages that by means of numerical methods integrate a family of partial differential equations often called **conservation laws**, and hence the name: *ClawPack = Conservation Laws Package*. Geoclaw specializes at solving geophysical problems, as tsunamis, storm-surges amongst others.\n",
    "\n",
    "In our case, it allows us to solve the initial boundary value problem (IBVP) of the **Non Linear Shallow Water Equations** including **strong variations in topography**, **bottom friction** and handling **shock waves** (discontinuities) by solving a ** Riemann problem** between each cell's interface. Also, to improve the performance of the computations it employes **adaptive grids**, that allow to vary the grid size (say $\\Delta x$) both in space and time.\n",
    "\n",
    "In case you do not understand some of the words in **bold**, I suggest you to investigate. There exists excelent material for studying on the internet, for example that of the [PASI-TSUNAMI course that took place the year 2013 at the Federico Santa María university in Valparaíso, Chile](http://www.bu.edu/pasi-tsunami/materials).\n",
    "\n",
    "The (excelent) documentation, license information, contribution guidelines (in case you are interested in cooperating as developer), and other topics can be found in the [official site](https://www.clawpack.org).\n"
   ]
  },
  {
   "cell_type": "markdown",
   "metadata": {},
   "source": [
    "### How to work with the Jupyter Notebook\n",
    "\n",
    "[Jupyter notebooks](https://jupyter.org) are documents that can be edited using a web-based user interface. As they describe it\n",
    "\n",
    ">The Jupyter Notebook is a web application that allows you to create and share documents that contain live code, equations, visualizations and explanatory text\n",
    "\n",
    "They split their content in cells, which can contain code or formatted text, and you can also write/append its content to a file. At the begining you will probably only work with the toolbar and menus at the top of the page, but what I recommend the most is to memorize some keyboard shortcuts. At least the ones I use are:\n",
    "\n",
    "* select a cell and press enter: edit the content of the current cell\n",
    "* esc: exit editing mode\n",
    "* ctrl + enter: Execute current cell\n",
    "* shift+ enter: Execute current cell and move to the next one.\n",
    "\n",
    "When out of edit mode, select a cell and use the following\n",
    "\n",
    "* m: change cell to normal text mode\n",
    "* y: change cell to code text mode\n",
    "* a: insert cell above\n",
    "* b: insert cell below\n",
    "* d+d: delete current cell\n",
    "\n",
    "You can find more in the dropdown menu **Help > Keyboard Shortcuts**"
   ]
  },
  {
   "cell_type": "markdown",
   "metadata": {},
   "source": [
    "### Overview of this notebook\n",
    "\n",
    "We will simulate the generation and propagation of a tsunami wave over the pacific ocean. First we shall see how to read the **topography** from an external file. Then we will calculate the deformation of the free-surface due to the movement in a **tectonic fault** produced by an earthquake in the ocean. Before running any calculation, we will set GeoClaw to save **maximum wave amplitude** and **arrival times** at run-time. After that we will **configure** and **run** the simulation. Finally we will see how we can obtain **propagation maps**, **snapshots** of the simulation as also punctual results that may be compared with buoy data for example."
   ]
  },
  {
   "cell_type": "markdown",
   "metadata": {},
   "source": [
    "### Disclaimer\n",
    "\n",
    "The content in this notebook is a modified version of the example available in the [ClawPack web site](http://www.clawpack.org/gallery/gallery_geoclaw.html). Also the style sheets were borrowed from [here](http://openedx.seas.gwu.edu/courses/GW/MAE6286/2014_fall/info)."
   ]
  },
  {
   "cell_type": "markdown",
   "metadata": {},
   "source": [
    "## Preparing the data for the simulation"
   ]
  },
  {
   "cell_type": "markdown",
   "metadata": {},
   "source": [
    "### Topography"
   ]
  },
  {
   "cell_type": "markdown",
   "metadata": {},
   "source": [
    "GeoClaw allows three different formats for the topography which are well documented [here](http://www.clawpack.org/topo.html#topo). For this example, we will use a file already prepared in format number 3. We should remember this number, since we will have to write it in the *setrun.py* file later."
   ]
  },
  {
   "cell_type": "markdown",
   "metadata": {},
   "source": [
    "First of all, we import some fundamental python packages"
   ]
  },
  {
   "cell_type": "code",
   "execution_count": 2,
   "metadata": {
    "collapsed": true
   },
   "outputs": [],
   "source": [
    "import matplotlib.pyplot as plt\n",
    "import numpy as np\n",
    "%matplotlib inline"
   ]
  },
  {
   "cell_type": "markdown",
   "metadata": {},
   "source": [
    "And download the data from the web-site."
   ]
  },
  {
   "cell_type": "code",
   "execution_count": 3,
   "metadata": {
    "collapsed": false
   },
   "outputs": [
    {
     "name": "stdout",
     "output_type": "stream",
     "text": [
      "Skipping http://www.geoclaw.org/topo/etopo/etopo10min120W60W60S0S.asc \n",
      "  because file already exists: ./etopo10min120W60W60S0S.asc\n"
     ]
    }
   ],
   "source": [
    "from clawpack.geoclaw import topotools\n",
    "import clawpack.clawutil.data as clawutildata\n",
    "topo_fname = 'etopo10min120W60W60S0S.asc'\n",
    "url = 'http://www.geoclaw.org/topo/etopo/' + topo_fname\n",
    "clawutildata.get_remote_file(url, output_dir='.', file_name=topo_fname,\n",
    "        verbose=True)"
   ]
  },
  {
   "cell_type": "markdown",
   "metadata": {},
   "source": [
    "And we can check the file was properly read by GeoClaw by using the function\n",
    "    \n",
    "    topotools.Topography(topo_fname, topotype)\n",
    "\n",
    "that returns a \"Topography\" object with the information from the file. We can actually plot it to see how it looks like."
   ]
  },
  {
   "cell_type": "code",
   "execution_count": 4,
   "metadata": {
    "collapsed": false,
    "scrolled": false
   },
   "outputs": [
    {
     "name": "stderr",
     "output_type": "stream",
     "text": [
      "/home/jose/anaconda2/lib/python2.7/site-packages/matplotlib/axes/_base.py:1215: UnicodeWarning: Unicode equal comparison failed to convert both arguments to Unicode - interpreting them as being unequal\n",
      "  if aspect == 'normal':\n",
      "/home/jose/anaconda2/lib/python2.7/site-packages/matplotlib/axes/_base.py:1220: UnicodeWarning: Unicode equal comparison failed to convert both arguments to Unicode - interpreting them as being unequal\n",
      "  elif aspect in ('equal', 'auto'):\n"
     ]
    },
    {
     "data": {
      "text/plain": [
       "<matplotlib.axes._subplots.AxesSubplot at 0x7fd0275d7fd0>"
      ]
     },
     "execution_count": 4,
     "metadata": {},
     "output_type": "execute_result"
    },
    {
     "data": {
      "image/png": "[encoded data removed]",
      "text/plain": [
       "<matplotlib.figure.Figure at 0x7fd0275d7890>"
      ]
     },
     "metadata": {},
     "output_type": "display_data"
    }
   ],
   "source": [
    "topo = topotools.Topography(topo_fname, topo_type=2)\n",
    "topo.plot()"
   ]
  },
  {
   "cell_type": "markdown",
   "metadata": {},
   "source": [
    "### From tectonic fault to free surface deformation"
   ]
  },
  {
   "cell_type": "markdown",
   "metadata": {},
   "source": [
    "GeoClaw has implemented the dislocation model proposed by Okada (\"Surface deformation due to Shear and Tensile Faults in a Half Space\", Bulletin of the Seismological Society of America, Vol. 75, No. 4, pp. 1135-1154, August 1985 ) to convert the rupture characterized by a set of geophysical parameters into free surface initial amplitude."
   ]
  },
  {
   "cell_type": "markdown",
   "metadata": {},
   "source": [
    "We initialize our fault object"
   ]
  },
  {
   "cell_type": "code",
   "execution_count": 5,
   "metadata": {
    "collapsed": false
   },
   "outputs": [],
   "source": [
    "from clawpack.geoclaw import dtopotools\n",
    "fault = dtopotools.Fault()"
   ]
  },
  {
   "cell_type": "markdown",
   "metadata": {},
   "source": [
    "Due to the linear nature of the problem solved in the Okada model, the total deformation results from the superposition of a finite number of disjoint \"subfaults\". In our case, we will simulate using the homogeneous fault proposed by the USGS for the 2010 event of Chile. This means we will use only one subfault."
   ]
  },
  {
   "cell_type": "markdown",
   "metadata": {},
   "source": [
    "Define a subfault"
   ]
  },
  {
   "cell_type": "code",
   "execution_count": 6,
   "metadata": {
    "collapsed": true
   },
   "outputs": [],
   "source": [
    "# Specify subfault parameters for this simple fault model consisting\n",
    "# of a single subfault:\n",
    "usgs_subfault = dtopotools.SubFault()\n",
    "usgs_subfault.strike = 16.\n",
    "usgs_subfault.length = 450.e3\n",
    "usgs_subfault.width = 100.e3\n",
    "usgs_subfault.depth = 35.e3\n",
    "usgs_subfault.slip = 15.\n",
    "usgs_subfault.rake = 104.\n",
    "usgs_subfault.dip = 14.\n",
    "usgs_subfault.longitude = -72.668\n",
    "usgs_subfault.latitude = -35.826\n",
    "usgs_subfault.coordinate_specification = \"top center\""
   ]
  },
  {
   "cell_type": "markdown",
   "metadata": {},
   "source": [
    "And add it to the collection of subfaults of our fault object"
   ]
  },
  {
   "cell_type": "code",
   "execution_count": 7,
   "metadata": {
    "collapsed": false
   },
   "outputs": [],
   "source": [
    "fault.subfaults = [usgs_subfault]"
   ]
  },
  {
   "cell_type": "markdown",
   "metadata": {},
   "source": [
    "It can be interesting to ask how is the energy level of this scenario"
   ]
  },
  {
   "cell_type": "code",
   "execution_count": 8,
   "metadata": {
    "collapsed": false
   },
   "outputs": [
    {
     "name": "stdout",
     "output_type": "stream",
     "text": [
      "Mw =  8.92090917611\n"
     ]
    }
   ],
   "source": [
    "print \"Mw = \",fault.Mw()"
   ]
  },
  {
   "cell_type": "markdown",
   "metadata": {},
   "source": [
    "Now we can calculate the initial deformation of the water free surface, and write it to a file"
   ]
  },
  {
   "cell_type": "code",
   "execution_count": 9,
   "metadata": {
    "collapsed": false
   },
   "outputs": [
    {
     "name": "stdout",
     "output_type": "stream",
     "text": [
      "*** Not regenerating dtopo file (already exists): ./dtopo_usgs100227.tt3\n"
     ]
    }
   ],
   "source": [
    "import os\n",
    "dtopo_fname = os.path.join('.', \"dtopo_usgs100227.tt3\")\n",
    "if os.path.exists(dtopo_fname):\n",
    "    print \"*** Not regenerating dtopo file (already exists): %s\" \\\n",
    "                % dtopo_fname\n",
    "else:\n",
    "    print \"Using Okada model to create dtopo file\"\n",
    "\n",
    "    x = np.linspace(-77, -67, 100)\n",
    "    y = np.linspace(-40, -30, 100)\n",
    "    times = [1.]\n",
    "\n",
    "    fault.create_dtopography(x,y,times)\n",
    "    dtopo = fault.dtopo\n",
    "    dtopo.write(dtopo_fname, dtopo_type=3)"
   ]
  },
  {
   "cell_type": "markdown",
   "metadata": {},
   "source": [
    "Now we can compare graphically the *slip* distribution of the fault model, with the generated vertical displacement of the free surface. In the next cell, the most important line is that which contains the *dtopo.plot_dZ_colors.*, since the others are only *matplotlib* commands to make the figure prettier or for keeping the sanity of the data."
   ]
  },
  {
   "cell_type": "code",
   "execution_count": 10,
   "metadata": {
    "collapsed": false
   },
   "outputs": [
    {
     "name": "stdout",
     "output_type": "stream",
     "text": [
      "Reading in dtopo file...\n"
     ]
    },
    {
     "data": {
      "text/plain": [
       "<matplotlib.axes._subplots.AxesSubplot at 0x7fd024b921d0>"
      ]
     },
     "execution_count": 10,
     "metadata": {},
     "output_type": "execute_result"
    },
    {
     "data": {
      "image/png": "[encoded data removed]",
      "text/plain": [
       "<matplotlib.figure.Figure at 0x7fd024f5da10>"
      ]
     },
     "metadata": {},
     "output_type": "display_data"
    }
   ],
   "source": [
    "if fault.dtopo is None:\n",
    "    # read in the pre-existing file:\n",
    "    print \"Reading in dtopo file...\"\n",
    "    dtopo = dtopotools.DTopography()\n",
    "    dtopo.read(dtopo_fname, dtopo_type=3)\n",
    "    x = dtopo.x\n",
    "    y = dtopo.y\n",
    "plt.figure(figsize=(10,5))\n",
    "ax1 = plt.subplot(121)\n",
    "ax2 = plt.subplot(122)\n",
    "fault.plot_subfaults(axes=ax1,slip_color=True)\n",
    "ax1.set_xlim(x.min(),x.max())\n",
    "ax1.set_ylim(y.min(),y.max())\n",
    "\n",
    "\n",
    "#the important one\n",
    "dtopo.plot_dZ_colors(1.,axes=ax2)"
   ]
  },
  {
   "cell_type": "markdown",
   "metadata": {},
   "source": [
    "## Configuring the simulation parameters and options"
   ]
  },
  {
   "cell_type": "markdown",
   "metadata": {},
   "source": [
    "### Save maximum heights and arrival times *on the run*"
   ]
  },
  {
   "cell_type": "markdown",
   "metadata": {},
   "source": [
    "To save time, GeoClaw allows to trace the maximum heights and their times of occurence at run-time, which can save a significant amount of time when processing the output.  For this, it is neccessary to create an *fgmax* file as follows.\n",
    "\n",
    "It is indeed not a trivial task to do, since we have different grid sizes in space that also vary in time."
   ]
  },
  {
   "cell_type": "code",
   "execution_count": 11,
   "metadata": {
    "collapsed": false,
    "scrolled": true
   },
   "outputs": [
    {
     "name": "stdout",
     "output_type": "stream",
     "text": [
      "---------------------------------------------- \n",
      "Created file  fgmax_grid.txt\n",
      "   specifying fixed grid with shape 301 by 301, with  90601 points\n",
      "   lower left  = (-120.0000000000, -60.0000000000)\n",
      "   upper right = ( -60.0000000000,   0.0000000000)\n",
      "   dx = 2.0000000000e-01,  dy = 2.0000000000e-01\n",
      "Box:   -120.000000  -60.000000  -60.000000    0.000000\n",
      "Created  fgmax_grid.kml\n"
     ]
    }
   ],
   "source": [
    "from clawpack.geoclaw import fgmax_tools\n",
    "fg = fgmax_tools.FGmaxGrid()\n",
    "fg.point_style = 2       # will specify a 2d grid of points\n",
    "fg.x1 = -120.\n",
    "fg.x2 = -60.\n",
    "fg.y1 = -60.\n",
    "fg.y2 = 0.\n",
    "fg.dx = 0.2 \n",
    "fg.tstart_max =  10.     # when to start monitoring max values\n",
    "fg.tend_max = 1.e10       # when to stop monitoring max values\n",
    "fg.dt_check = 60.         # target time (sec) increment between updating \n",
    "                           # max values\n",
    "fg.min_level_check = 2    # which levels to monitor max on\n",
    "fg.arrival_tol = 1.e-2    # tolerance for flagging arrival\n",
    "\n",
    "fg.input_file_name = 'fgmax_grid.txt'\n",
    "fg.write_input_data()"
   ]
  },
  {
   "cell_type": "markdown",
   "metadata": {},
   "source": [
    "### Setting a simulation run: the setrun.py file\n",
    "\n",
    "To run a simulation we need to define a python script called *setrun.py* file. Also it is mandatory to have in the same folder a file called **Makefile** which you won't need to edit, but only to make sure it is there: this is the one responsible for gathering and translating all the code into a machine executable file. On the other side, through the *setrun.py* we will define all the parameters such as simulation final time, and link the topography and initial condition data files we created before.\n",
    "\n",
    "You will see the *setrun.py* is quite long, but there is only a few sections we are commonly interested on editing."
   ]
  },
  {
   "cell_type": "markdown",
   "metadata": {},
   "source": [
    "#### A comment on adaptive refinement with GeoClaw\n",
    "\n",
    "GeoClaw asks you to define refinement regions that define the extent in space and time, over which you want to allow it to use finer grids. What you have to define beforehand is:\n",
    "\n",
    "1. A list of **refinement ratios** (integer numbers), say $r_x =[r_2,...,r_l]$, with $l$ the number of **refinement levels** in the simulation, such that $$\\dfrac{\\Delta x_{1}}{\\Delta x_{2}} = r_1, \\dfrac{\\Delta x_{2}}{\\Delta x_{3}} = r_2$$, and so on. Notice that $\\Delta x_1$ is the cell size of the coarsest level, which covers the full domain.\n",
    "\n",
    "2. (optional) A list of **refinement regions** with min and max level of  refinement level allowed in a rectangle inside the domain, for a given time interval of the simulation.\n",
    "\n",
    "Given the restrictions in 2., GeoClaw will try to refine up to the highest level defined in 1, when a specific criteria is satisfied. If you don't define 2., GeoClaw will assume you allow the maximum level of refinement everywhere. The criteria of refinement is when the amplitude of the wave, with respect to the default sea-level is greater than a defined tolerance (of course, the tolerance is also defined in the setrun.py)."
   ]
  },
  {
   "cell_type": "markdown",
   "metadata": {},
   "source": [
    "I suggest you to read the setrun.py carefully once, but then just \"ctrl+f\" the section enclosed in \"#-----\" that is of your interest"
   ]
  },
  {
   "cell_type": "markdown",
   "metadata": {},
   "source": [
    "### The setrun.py file\n",
    "\n",
    "This is the most important file, and all of its fields are well explained in detail [here](http://www.clawpack.org/setrun.html). Those which are of most interest to us can be found in the following sections:\n",
    "\n",
    "\n",
    "* Extent of the computational domain, and resolution of the coarser level.\n",
    "\n",
    "        # ---------------\n",
    "        # Spatial domain:\n",
    "        # ---------------\n",
    "\n",
    "        ...\n",
    "\n",
    "* Simulation instants when you want to save the whole simulation state to a file. Be careful with this, since it can grow large very easily.\n",
    "\n",
    "        # -------------\n",
    "        # Output times:\n",
    "        #--------------\n",
    "\n",
    "        ...\n",
    "\n",
    "* Time step configuration of the simulation. Normally you will only edit the \"CFL_...\" parameters, when the computation misteriously \"blows up\".\n",
    "\n",
    "        # --------------\n",
    "        # Time stepping:\n",
    "        # --------------\n",
    "\n",
    "        ...\n",
    "\n",
    "* Boundary conditions: There is only \"closed\" (reflective) and \"open\" (extrapolation) boundaries. More complex boundary conditions must be programed in fortran by the user.\n",
    "\n",
    "        # --------------------\n",
    "        # Boundary conditions:\n",
    "        # --------------------\n",
    "\n",
    "        ...\n",
    "\n",
    "\n",
    "* Adaptive Refinement parameters and **output virtual gauges location**.\n",
    "\n",
    "        # ---------------\n",
    "        # AMR parameters:\n",
    "        # ---------------   \n",
    "\n",
    "        ...\n",
    "    \n",
    "* Other geophysical related parameters such as the **wave_tolerance** for adaptive refinement, bottom friction, coordinate sistem (lat-lon or cartesian), amongst others.\n",
    "\n",
    "        #-------------------\n",
    "        def setgeo(rundata):\n",
    "        #-------------------    \n",
    "        ...         "
   ]
  },
  {
   "cell_type": "markdown",
   "metadata": {},
   "source": [
    "I suggest you to read the setrun.py carefully once, but then just \"ctrl+f\" the section enclosed in \"#-----\" that is of your interest"
   ]
  },
  {
   "cell_type": "markdown",
   "metadata": {},
   "source": [
    "### Editing the setrun.py file\n",
    "\n",
    "We will use the ipython %%writefile magic function, this will allow us to write all the content in a cell (except for the first line) in the specified file.\n",
    "\n",
    "If you are wondering, I just copy-pasted an existing setrun.py file from the geoclaw examples directory, and then modified its content to fulfill this requirements of this example.\n",
    "\n",
    "You can execute\n",
    "\n",
    "    %%writefile?\n",
    "\n",
    "to see its docstring.    "
   ]
  },
  {
   "cell_type": "code",
   "execution_count": 12,
   "metadata": {
    "collapsed": false
   },
   "outputs": [
    {
     "name": "stdout",
     "output_type": "stream",
     "text": [
      "Overwriting setrun.py\n"
     ]
    }
   ],
   "source": [
    "%%writefile setrun.py\n",
    "# %load setrun.py\n",
    "\"\"\"\n",
    "Module to set up run time parameters for Clawpack.\n",
    "\n",
    "The values set in the function setrun are then written out to data files\n",
    "that will be read in by the Fortran code.\n",
    "\n",
    "\"\"\"\n",
    "\n",
    "import os\n",
    "import numpy as np\n",
    "\n",
    "try:\n",
    "    CLAW = os.environ['CLAW']\n",
    "except:\n",
    "    raise Exception(\"*** Must first set CLAW enviornment variable\")\n",
    "\n",
    "\n",
    "#------------------------------\n",
    "def setrun(claw_pkg='geoclaw'):\n",
    "#------------------------------\n",
    "\n",
    "    \"\"\"\n",
    "    Define the parameters used for running Clawpack.\n",
    "\n",
    "    INPUT:\n",
    "        claw_pkg expected to be \"geoclaw\" for this setrun.\n",
    "\n",
    "    OUTPUT:\n",
    "        rundata - object of class ClawRunData\n",
    "\n",
    "    \"\"\"\n",
    "\n",
    "    from clawpack.clawutil import data\n",
    "\n",
    "    assert claw_pkg.lower() == 'geoclaw',  \"Expected claw_pkg = 'geoclaw'\"\n",
    "\n",
    "    num_dim = 2\n",
    "    rundata = data.ClawRunData(claw_pkg, num_dim)\n",
    "\n",
    "\n",
    "    #------------------------------------------------------------------\n",
    "    # Problem-specific parameters to be written to setprob.data:\n",
    "    #------------------------------------------------------------------\n",
    "    \n",
    "    #probdata = rundata.new_UserData(name='probdata',fname='setprob.data')\n",
    "\n",
    "\n",
    "    #------------------------------------------------------------------\n",
    "    # GeoClaw specific parameters:\n",
    "    #------------------------------------------------------------------\n",
    "    rundata = setgeo(rundata)\n",
    "\n",
    "    #------------------------------------------------------------------\n",
    "    # Standard Clawpack parameters to be written to claw.data:\n",
    "    #   (or to amr2ez.data for AMR)\n",
    "    #------------------------------------------------------------------\n",
    "    clawdata = rundata.clawdata  # initialized when rundata instantiated\n",
    "\n",
    "\n",
    "    # Set single grid parameters first.\n",
    "    # See below for AMR parameters.\n",
    "\n",
    "\n",
    "    # ---------------\n",
    "    # Spatial domain:\n",
    "    # ---------------\n",
    "\n",
    "    # Number of space dimensions:\n",
    "    clawdata.num_dim = num_dim\n",
    "\n",
    "    # Lower and upper edge of computational domain:\n",
    "    clawdata.lower[0] = -120.0      # west longitude\n",
    "    clawdata.upper[0] = -60.0       # east longitude\n",
    "\n",
    "    clawdata.lower[1] = -60.0       # south latitude\n",
    "    clawdata.upper[1] = 0.0         # north latitude\n",
    "\n",
    "\n",
    "\n",
    "    # Number of grid cells: Coarsest grid\n",
    "    clawdata.num_cells[0] = 30\n",
    "    clawdata.num_cells[1] = 30\n",
    "\n",
    "    # ---------------\n",
    "    # Size of system:\n",
    "    # ---------------\n",
    "\n",
    "    # Number of equations in the system:\n",
    "    clawdata.num_eqn = 3\n",
    "\n",
    "    # Number of auxiliary variables in the aux array (initialized in setaux)\n",
    "    clawdata.num_aux = 4\n",
    "\n",
    "    # Index of aux array corresponding to capacity function, if there is one:\n",
    "    clawdata.capa_index = 2\n",
    "\n",
    "    \n",
    "    \n",
    "    # -------------\n",
    "    # Initial time:\n",
    "    # -------------\n",
    "\n",
    "    clawdata.t0 = 0.0\n",
    "\n",
    "\n",
    "    # Restart from checkpoint file of a previous run?\n",
    "    # Note: If restarting, you must also change the Makefile to set:\n",
    "    #    RESTART = True\n",
    "    # If restarting, t0 above should be from original run, and the\n",
    "    # restart_file 'fort.chkNNNNN' specified below should be in \n",
    "    # the OUTDIR indicated in Makefile.\n",
    "\n",
    "    clawdata.restart = False               # True to restart from prior results\n",
    "    clawdata.restart_file = 'fort.chk00036'  # File to use for restart data\n",
    "\n",
    "    # -------------\n",
    "    # Output times:\n",
    "    #--------------\n",
    "\n",
    "    # Specify at what times the results should be written to fort.q files.\n",
    "    # Note that the time integration stops after the final output time.\n",
    "    # The solution at initial time t0 is always written in addition.\n",
    "\n",
    "    clawdata.output_style = 1\n",
    "\n",
    "    if clawdata.output_style==1:\n",
    "        # Output nout frames at equally spaced times up to tfinal:\n",
    "        clawdata.num_output_times = 5\n",
    "        clawdata.tfinal = 10*3600.0\n",
    "        clawdata.output_t0 = False  # output at initial (or restart) time?\n",
    "\n",
    "    elif clawdata.output_style == 2:\n",
    "        # Specify a list of output times.\n",
    "        clawdata.output_times = [30., 60., 300., 600.]\n",
    "\n",
    "    elif clawdata.output_style == 3:\n",
    "        # Output every iout timesteps with a total of ntot time steps:\n",
    "        clawdata.output_step_interval = 1\n",
    "        clawdata.total_steps = 3\n",
    "        clawdata.output_t0 = True\n",
    "        \n",
    "\n",
    "    clawdata.output_format = 'ascii'      # 'ascii' or 'netcdf' \n",
    "\n",
    "    clawdata.output_q_components = 'all'   # need all\n",
    "    clawdata.output_aux_components = 'none'  # eta=h+B is in q\n",
    "    clawdata.output_aux_onlyonce = False    # output aux arrays each frame\n",
    "\n",
    "\n",
    "\n",
    "    # ---------------------------------------------------\n",
    "    # Verbosity of messages to screen during integration:\n",
    "    # ---------------------------------------------------\n",
    "\n",
    "    # The current t, dt, and cfl will be printed every time step\n",
    "    # at AMR levels <= verbosity.  Set verbosity = 0 for no printing.\n",
    "    #   (E.g. verbosity == 2 means print only on levels 1 and 2.)\n",
    "    clawdata.verbosity = 1\n",
    "\n",
    "\n",
    "\n",
    "    # --------------\n",
    "    # Time stepping:\n",
    "    # --------------\n",
    "\n",
    "    # if dt_variable==1: variable time steps used based on cfl_desired,\n",
    "    # if dt_variable==0: fixed time steps dt = dt_initial will always be used.\n",
    "    clawdata.dt_variable = True\n",
    "\n",
    "    # Initial time step for variable dt.\n",
    "    # If dt_variable==0 then dt=dt_initial for all steps:\n",
    "    clawdata.dt_initial = 0.2\n",
    "\n",
    "    # Max time step to be allowed if variable dt used:\n",
    "    clawdata.dt_max = 1e+99\n",
    "\n",
    "    # Desired Courant number if variable dt used, and max to allow without\n",
    "    # retaking step with a smaller dt:\n",
    "    clawdata.cfl_desired = 0.75\n",
    "    clawdata.cfl_max = 1.0\n",
    "\n",
    "    # Maximum number of time steps to allow between output times:\n",
    "    clawdata.steps_max = 5000\n",
    "\n",
    "\n",
    "\n",
    "\n",
    "    # ------------------\n",
    "    # Method to be used:\n",
    "    # ------------------\n",
    "\n",
    "    # Order of accuracy:  1 => Godunov,  2 => Lax-Wendroff plus limiters\n",
    "    clawdata.order = 2\n",
    "    \n",
    "    # Use dimensional splitting? (not yet available for AMR)\n",
    "    clawdata.dimensional_split = 'unsplit'\n",
    "    \n",
    "    # For unsplit method, transverse_waves can be \n",
    "    #  0 or 'none'      ==> donor cell (only normal solver used)\n",
    "    #  1 or 'increment' ==> corner transport of waves\n",
    "    #  2 or 'all'       ==> corner transport of 2nd order corrections too\n",
    "    clawdata.transverse_waves = 2\n",
    "\n",
    "    # Number of waves in the Riemann solution:\n",
    "    clawdata.num_waves = 3\n",
    "    \n",
    "    # List of limiters to use for each wave family:  \n",
    "    # Required:  len(limiter) == num_waves\n",
    "    # Some options:\n",
    "    #   0 or 'none'     ==> no limiter (Lax-Wendroff)\n",
    "    #   1 or 'minmod'   ==> minmod\n",
    "    #   2 or 'superbee' ==> superbee\n",
    "    #   3 or 'mc'       ==> MC limiter\n",
    "    #   4 or 'vanleer'  ==> van Leer\n",
    "    clawdata.limiter = ['mc', 'mc', 'mc']\n",
    "\n",
    "    clawdata.use_fwaves = True    # True ==> use f-wave version of algorithms\n",
    "    \n",
    "    # Source terms splitting:\n",
    "    #   src_split == 0 or 'none'    ==> no source term (src routine never called)\n",
    "    #   src_split == 1 or 'godunov' ==> Godunov (1st order) splitting used, \n",
    "    #   src_split == 2 or 'strang'  ==> Strang (2nd order) splitting used,  not recommended.\n",
    "    clawdata.source_split = 'godunov'\n",
    "\n",
    "\n",
    "    # --------------------\n",
    "    # Boundary conditions:\n",
    "    # --------------------\n",
    "\n",
    "    # Number of ghost cells (usually 2)\n",
    "    clawdata.num_ghost = 2\n",
    "\n",
    "    # Choice of BCs at xlower and xupper:\n",
    "    #   0 => user specified (must modify bcN.f to use this option)\n",
    "    #   1 => extrapolation (non-reflecting outflow)\n",
    "    #   2 => periodic (must specify this at both boundaries)\n",
    "    #   3 => solid wall for systems where q(2) is normal velocity\n",
    "\n",
    "    clawdata.bc_lower[0] = 'extrap'\n",
    "    clawdata.bc_upper[0] = 'extrap'\n",
    "\n",
    "    clawdata.bc_lower[1] = 'extrap'\n",
    "    clawdata.bc_upper[1] = 'extrap'\n",
    "\n",
    "\n",
    "\n",
    "    # --------------\n",
    "    # Checkpointing:\n",
    "    # --------------\n",
    "\n",
    "    # Specify when checkpoint files should be created that can be\n",
    "    # used to restart a computation.\n",
    "\n",
    "    clawdata.checkpt_style = 0\n",
    "\n",
    "    if clawdata.checkpt_style == 0:\n",
    "        # Do not checkpoint at all\n",
    "        pass\n",
    "\n",
    "    elif clawdata.checkpt_style == 1:\n",
    "        # Checkpoint only at tfinal.\n",
    "        pass\n",
    "\n",
    "    elif clawdata.checkpt_style == 2:\n",
    "        # Specify a list of checkpoint times.  \n",
    "        clawdata.checkpt_times = [0.1,0.15]\n",
    "\n",
    "    elif clawdata.checkpt_style == 3:\n",
    "        # Checkpoint every checkpt_interval timesteps (on Level 1)\n",
    "        # and at the final time.\n",
    "        clawdata.checkpt_interval = 5\n",
    "\n",
    "\n",
    "    # ---------------\n",
    "    # AMR parameters:\n",
    "    # ---------------\n",
    "    amrdata = rundata.amrdata\n",
    "\n",
    "    # max number of refinement levels:\n",
    "    amrdata.amr_levels_max = 2\n",
    "\n",
    "    # List of refinement ratios at each level (length at least mxnest-1)\n",
    "    amrdata.refinement_ratios_x = [4,3]\n",
    "    amrdata.refinement_ratios_y = [4,3]\n",
    "    amrdata.refinement_ratios_t = [4,3]\n",
    "\n",
    "\n",
    "    # Specify type of each aux variable in amrdata.auxtype.\n",
    "    # This must be a list of length maux, each element of which is one of:\n",
    "    #   'center',  'capacity', 'xleft', or 'yleft'  (see documentation).\n",
    "\n",
    "    amrdata.aux_type = ['center','capacity','yleft','center']\n",
    "\n",
    "\n",
    "    # Flag using refinement routine flag2refine rather than richardson error\n",
    "    amrdata.flag_richardson = False    # use Richardson?\n",
    "    amrdata.flag2refine = True\n",
    "\n",
    "    # steps to take on each level L between regriddings of level L+1:\n",
    "    amrdata.regrid_interval = 3\n",
    "\n",
    "    # width of buffer zone around flagged points:\n",
    "    # (typically the same as regrid_interval so waves don't escape):\n",
    "    amrdata.regrid_buffer_width  = 2\n",
    "\n",
    "    # clustering alg. cutoff for (# flagged pts) / (total # of cells refined)\n",
    "    # (closer to 1.0 => more small grids may be needed to cover flagged cells)\n",
    "    amrdata.clustering_cutoff = 0.700000\n",
    "\n",
    "    # print info about each regridding up to this level:\n",
    "    amrdata.verbosity_regrid = 0  \n",
    "\n",
    "    #  ----- For developers ----- \n",
    "    # Toggle debugging print statements:\n",
    "    amrdata.dprint = False      # print domain flags\n",
    "    amrdata.eprint = False      # print err est flags\n",
    "    amrdata.edebug = False      # even more err est flags\n",
    "    amrdata.gprint = False      # grid bisection/clustering\n",
    "    amrdata.nprint = False      # proper nesting output\n",
    "    amrdata.pprint = False      # proj. of tagged points\n",
    "    amrdata.rprint = False      # print regridding summary\n",
    "    amrdata.sprint = False      # space/memory output\n",
    "    amrdata.tprint = True       # time step reporting each level\n",
    "    amrdata.uprint = False      # update/upbnd reporting\n",
    "    \n",
    "    # More AMR parameters can be set -- see the defaults in pyclaw/data.py\n",
    "\n",
    "    # ---------------\n",
    "    # Regions:\n",
    "    # ---------------\n",
    "    rundata.regiondata.regions = []\n",
    "    # to specify regions of refinement append lines of the form\n",
    "    #  [minlevel,maxlevel,t1,t2,x1,x2,y1,y2]\n",
    "    #rundata.regiondata.regions.append([1, 2, 0., 1e9, -360,360,-90,90])\n",
    "    rundata.regiondata.regions.append([3, 3, 0., 600., -76,-72,-38,-33])\n",
    "\n",
    "    # ---------------\n",
    "    # Gauges:\n",
    "    # ---------------\n",
    "    rundata.gaugedata.gauges = []\n",
    "    # for gauges append lines of the form  [gaugeno, x, y, t1, t2]\n",
    "    rundata.gaugedata.gauges.append([32412, -86.392, -17.975, 0., 1.e10])\n",
    "    \n",
    "\n",
    "    return rundata\n",
    "    # end of function setrun\n",
    "    # ----------------------\n",
    "\n",
    "\n",
    "#-------------------\n",
    "def setgeo(rundata):\n",
    "#-------------------\n",
    "    \"\"\"\n",
    "    Set GeoClaw specific runtime parameters.\n",
    "    For documentation see ....\n",
    "    \"\"\"\n",
    "\n",
    "    try:\n",
    "        geo_data = rundata.geo_data\n",
    "    except:\n",
    "        print \"*** Error, this rundata has no geo_data attribute\"\n",
    "        raise AttributeError(\"Missing geo_data attribute\")\n",
    "       \n",
    "    # == Physics ==\n",
    "    geo_data.gravity = 9.81\n",
    "    geo_data.coordinate_system = 2\n",
    "    geo_data.earth_radius = 6367.5e3\n",
    "\n",
    "    # == Forcing Options\n",
    "    geo_data.coriolis_forcing = False\n",
    "\n",
    "    # == Algorithm and Initial Conditions ==\n",
    "    geo_data.sea_level = 0.0\n",
    "    geo_data.dry_tolerance = 1.e-3\n",
    "    geo_data.friction_forcing = True\n",
    "    geo_data.manning_coefficient =.025\n",
    "    geo_data.friction_depth = 1e6\n",
    "\n",
    "    # Refinement settings\n",
    "    refinement_data = rundata.refinement_data\n",
    "    refinement_data.variable_dt_refinement_ratios = True\n",
    "    refinement_data.wave_tolerance = 1.e-2\n",
    "    refinement_data.deep_depth = 1e2\n",
    "    refinement_data.max_level_deep = 3\n",
    "\n",
    "    # == settopo.data values ==\n",
    "    topo_data = rundata.topo_data\n",
    "    # for topography, append lines of the form\n",
    "    #    [topotype, minlevel, maxlevel, t1, t2, fname]\n",
    "    topo_path = './etopo10min120W60W60S0S.asc'\n",
    "    topo_data.topofiles.append([2, 1, 3, 0., 1.e10, topo_path])\n",
    "\n",
    "    # == setdtopo.data values ==\n",
    "    dtopo_data = rundata.dtopo_data\n",
    "    # for moving topography, append lines of the form :   (<= 1 allowed for now!)\n",
    "    #   [topotype, minlevel,maxlevel,fname]\n",
    "    dtopo_path = './dtopo_usgs100227.tt3'\n",
    "    dtopo_data.dtopofiles.append([3,3,3,dtopo_path])\n",
    "    dtopo_data.dt_max_dtopo = 0.2\n",
    "\n",
    "\n",
    "    # == setqinit.data values ==\n",
    "    rundata.qinit_data.qinit_type = 0\n",
    "    rundata.qinit_data.qinitfiles = []\n",
    "    # for qinit perturbations, append lines of the form: (<= 1 allowed for now!)\n",
    "    #   [minlev, maxlev, fname]\n",
    "\n",
    "    # == setfixedgrids.data values ==\n",
    "    fixed_grids = rundata.fixed_grid_data\n",
    "    # for fixed grids append lines of the form\n",
    "    # [t1,t2,noutput,x1,x2,y1,y2,xpoints,ypoints,\\\n",
    "    #  ioutarrivaltimes,ioutsurfacemax]\n",
    "\n",
    "    # == fgmax.data values ==\n",
    "    fgmax_files = rundata.fgmax_data.fgmax_files\n",
    "    # for fixed grids append to this list names of any fgmax input files\n",
    "    fgmax_files.append('fgmax_grid.txt')\n",
    "    rundata.fgmax_data.num_fgmax_val = 1  # Save depth only\n",
    "\n",
    "\n",
    "\n",
    "    return rundata\n",
    "    # end of function setgeo\n",
    "    # ----------------------\n",
    "\n",
    "\n",
    "\n",
    "if __name__ == '__main__':\n",
    "    # Set up run-time parameters and write all data files.\n",
    "    import sys\n",
    "    rundata = setrun(*sys.argv[1:])\n",
    "    rundata.write()\n",
    "\n"
   ]
  },
  {
   "cell_type": "markdown",
   "metadata": {},
   "source": [
    "## Running the simulation\n",
    "\n",
    "Once the setrun.py is ready we will use some commands defined in the **Makefile** that should be in the same folder as this notebook. The Makefile will compile the Fortran source code and create an executable that will also be called from the Makefile command.\n",
    "\n",
    "You can see which commands are defined in the Makefile by executing from a terminal\n",
    "\n",
    "    make help\n",
    "\n",
    "or simply put a \"!\" in an ipython cell, to run as if it was from the terminal"
   ]
  },
  {
   "cell_type": "code",
   "execution_count": 13,
   "metadata": {
    "collapsed": false
   },
   "outputs": [
    {
     "name": "stdout",
     "output_type": "stream",
     "text": [
      "Makefile:187: warning: overriding commands for target `all'\r\n",
      "/home/jose/Downloads/clawpack-5.3.1//clawutil/src/Makefile.common:259: warning: ignoring old commands for target `all'\r\n",
      "   \"make .objs\"    to compile object files\r\n",
      "   \"make .exe\"     to create executable\r\n",
      "   \"make .data\"    to create data files using setrun.py\r\n",
      "   \"make .output\"  to run code\r\n",
      "   \"make output\"   to run code with no dependency checking\r\n",
      "   \"make .plots\"   to produce plots\r\n",
      "   \"make plots\"    to produce plots with no dependency checking\r\n",
      "   \"make .htmls\"   to produce html versions of files\r\n",
      "   \"make .program\" to produce single program file\r\n",
      "   \"make new\"      to remove all objs and then make .exe\r\n",
      "   \"make clean\"    to clean up compilation and html files\r\n",
      "   \"make clobber\"  to also clean up output and plot files\r\n",
      "   \"make help\"     to print this message\r\n"
     ]
    }
   ],
   "source": [
    "!make help"
   ]
  },
  {
   "cell_type": "markdown",
   "metadata": {},
   "source": [
    "The following cell will delete any precompiled files with the\n",
    "\n",
    "    make clean\n",
    "\n",
    "command, and compile the code again and execute it with\n",
    "\n",
    "    make .output\n",
    "\n",
    "You can write the magic\n",
    "    \n",
    "    %%capture out\n",
    "    \n",
    "in the first line, if you find the screen output too annoying, and save it in the \"out\" variable.\n",
    "\n",
    "Now sit back, and wait for those results."
   ]
  },
  {
   "cell_type": "code",
   "execution_count": 14,
   "metadata": {
    "collapsed": false,
    "scrolled": true
   },
   "outputs": [],
   "source": [
    "%%capture out\n",
    "!make clean\n",
    "!make .output"
   ]
  },
  {
   "cell_type": "markdown",
   "metadata": {},
   "source": [
    "Using only two refinement levels, it took me about 40 seconds to run."
   ]
  },
  {
   "cell_type": "markdown",
   "metadata": {},
   "source": [
    "## Processing the results: GeoClaw predefined plotting functions"
   ]
  },
  {
   "cell_type": "markdown",
   "metadata": {},
   "source": [
    "There are two kind of figures we can generate with GeoClaw for tsunamis: the standard snapshots of the simulation and output gauges, and propagation maps showing the maximum height of the wave and its arrival times."
   ]
  },
  {
   "cell_type": "markdown",
   "metadata": {},
   "source": [
    "### Creating animations and punctual time series with results"
   ]
  },
  {
   "cell_type": "markdown",
   "metadata": {},
   "source": [
    "To easily generate some nice figures we have to configure the *setplot.py* file. All figures will be generated in the folder\n",
    "\n",
    "    ./_plots\n",
    "\n",
    "We shall proceed just as with the setrun.py file.\n",
    "\n",
    "Notice that snapshots values are taken from the stored values at times defined in the section\n",
    "\n",
    "        # -------------\n",
    "        # Output times:\n",
    "        #--------------\n",
    "\n",
    "        ...\n",
    "        \n",
    "in the *setrun.py* file.\n",
    "\n",
    "Also, if you read the *setplot.py* file you will notice that snapshot figures are defined in the section\n",
    "\n",
    "    #-----------------------------------------\n",
    "    # Figure for surface\n",
    "    #-----------------------------------------\n",
    "    ...\n",
    "and output gauges in\n",
    "\n",
    "\n",
    "    #-----------------------------------------\n",
    "    # Figures for gauges\n",
    "    #-----------------------------------------\n"
   ]
  },
  {
   "cell_type": "code",
   "execution_count": 15,
   "metadata": {
    "collapsed": false
   },
   "outputs": [
    {
     "name": "stdout",
     "output_type": "stream",
     "text": [
      "Overwriting setplot.py\n"
     ]
    }
   ],
   "source": [
    "%%writefile setplot.py\n",
    "# %load setplot.py\n",
    "\n",
    "\"\"\" \n",
    "Set up the plot figures, axes, and items to be done for each frame.\n",
    "\n",
    "This module is imported by the plotting routines and then the\n",
    "function setplot is called to set the plot parameters.\n",
    "    \n",
    "\"\"\" \n",
    "\n",
    "import numpy as np\n",
    "import matplotlib.pyplot as plt\n",
    "\n",
    "from clawpack.geoclaw import topotools\n",
    "\n",
    "try:\n",
    "    TG32412 = np.loadtxt('32412_notide.txt')\n",
    "except:\n",
    "    print \"*** Could not load DART data file\"\n",
    "\n",
    "#--------------------------\n",
    "def setplot(plotdata):\n",
    "#--------------------------\n",
    "    \n",
    "    \"\"\" \n",
    "    Specify what is to be plotted at each frame.\n",
    "    Input:  plotdata, an instance of pyclaw.plotters.data.ClawPlotData.\n",
    "    Output: a modified version of plotdata.\n",
    "    \n",
    "    \"\"\" \n",
    "\n",
    "\n",
    "    from clawpack.visclaw import colormaps, geoplot\n",
    "    from numpy import linspace\n",
    "\n",
    "    plotdata.clearfigures()  # clear any old figures,axes,items data\n",
    "\n",
    "\n",
    "    # To plot gauge locations on pcolor or contour plot, use this as\n",
    "    # an afteraxis function:\n",
    "\n",
    "    def addgauges(current_data):\n",
    "        from clawpack.visclaw import gaugetools\n",
    "        gaugetools.plot_gauge_locations(current_data.plotdata, \\\n",
    "             gaugenos='all', format_string='ko', add_labels=True)\n",
    "    \n",
    "\n",
    "    #-----------------------------------------\n",
    "    # Figure for surface\n",
    "    #-----------------------------------------\n",
    "    plotfigure = plotdata.new_plotfigure(name='Surface', figno=0)\n",
    "\n",
    "    # Set up for axes in this figure:\n",
    "    plotaxes = plotfigure.new_plotaxes('pcolor')\n",
    "    plotaxes.title = 'Surface'\n",
    "    plotaxes.scaled = True\n",
    "\n",
    "    def fixup(current_data):\n",
    "        import pylab\n",
    "        addgauges(current_data)\n",
    "        t = current_data.t\n",
    "        t = t / 3600.  # hours\n",
    "        pylab.title('Surface at %4.2f hours' % t, fontsize=20)\n",
    "        pylab.xticks(fontsize=15)\n",
    "        pylab.yticks(fontsize=15)\n",
    "    plotaxes.afteraxes = fixup\n",
    "\n",
    "    # Water\n",
    "    plotitem = plotaxes.new_plotitem(plot_type='2d_pcolor')\n",
    "    #plotitem.plot_var = geoplot.surface\n",
    "    plotitem.plot_var = geoplot.surface_or_depth\n",
    "    plotitem.pcolor_cmap = geoplot.tsunami_colormap\n",
    "    plotitem.pcolor_cmin = -0.2\n",
    "    plotitem.pcolor_cmax = 0.2\n",
    "    plotitem.add_colorbar = True\n",
    "    plotitem.amr_celledges_show = [0,0,0]\n",
    "    plotitem.patchedges_show = 1\n",
    "\n",
    "    # Land\n",
    "    plotitem = plotaxes.new_plotitem(plot_type='2d_pcolor')\n",
    "    plotitem.plot_var = geoplot.land\n",
    "    plotitem.pcolor_cmap = geoplot.land_colors\n",
    "    plotitem.pcolor_cmin = 0.0\n",
    "    plotitem.pcolor_cmax = 100.0\n",
    "    plotitem.add_colorbar = False\n",
    "    plotitem.amr_celledges_show = [1,0,0]\n",
    "    plotitem.patchedges_show = 1\n",
    "    plotaxes.xlimits = [-120,-60]\n",
    "    plotaxes.ylimits = [-60,0]\n",
    "\n",
    "    # add contour lines of bathy if desired:\n",
    "    plotitem = plotaxes.new_plotitem(plot_type='2d_contour')\n",
    "    plotitem.show = False\n",
    "    plotitem.plot_var = geoplot.topo\n",
    "    plotitem.contour_levels = linspace(-3000,-3000,1)\n",
    "    plotitem.amr_contour_colors = ['y']  # color on each level\n",
    "    plotitem.kwargs = {'linestyles':'solid','linewidths':2}\n",
    "    plotitem.amr_contour_show = [1,0,0]  \n",
    "    plotitem.celledges_show = 0\n",
    "    plotitem.patchedges_show = 0\n",
    "\n",
    "\n",
    "    #-----------------------------------------\n",
    "    # Figures for gauges\n",
    "    #-----------------------------------------\n",
    "    plotfigure = plotdata.new_plotfigure(name='Surface at gauges', figno=300, \\\n",
    "                    type='each_gauge')\n",
    "    plotfigure.clf_each_gauge = True\n",
    "\n",
    "    # Set up for axes in this figure:\n",
    "    plotaxes = plotfigure.new_plotaxes()\n",
    "    plotaxes.xlimits = 'auto'\n",
    "    plotaxes.ylimits = 'auto'\n",
    "    plotaxes.title = 'Surface'\n",
    "\n",
    "    # Plot surface as blue curve:\n",
    "    plotitem = plotaxes.new_plotitem(plot_type='1d_plot')\n",
    "    plotitem.plot_var = 3\n",
    "    plotitem.plotstyle = 'b-'\n",
    "\n",
    "    # Plot topo as green curve:\n",
    "    plotitem = plotaxes.new_plotitem(plot_type='1d_plot')\n",
    "    plotitem.show = False\n",
    "\n",
    "    def gaugetopo(current_data):\n",
    "        q = current_data.q\n",
    "        h = q[0,:]\n",
    "        eta = q[3,:]\n",
    "        topo = eta - h\n",
    "        return topo\n",
    "        \n",
    "    plotitem.plot_var = gaugetopo\n",
    "    plotitem.plotstyle = 'g-'\n",
    "\n",
    "    def add_zeroline(current_data):\n",
    "        from pylab import plot, legend, xticks, floor, axis, xlabel\n",
    "        t = current_data.t \n",
    "        gaugeno = current_data.gaugeno\n",
    "\n",
    "        if gaugeno == 32412:\n",
    "            try:\n",
    "                plot(TG32412[:,0], TG32412[:,1], 'r')\n",
    "                legend(['GeoClaw','Obs'],'lower right')\n",
    "            except: pass\n",
    "            axis((0,t.max(),-0.3,0.3))\n",
    "\n",
    "        plot(t, 0*t, 'k')\n",
    "        n = int(floor(t.max()/3600.) + 2)\n",
    "        xticks([3600*i for i in range(n)], ['%i' % i for i in range(n)])\n",
    "        xlabel('time (hours)')\n",
    "\n",
    "    plotaxes.afteraxes = add_zeroline\n",
    "\n",
    "\n",
    "    #-----------------------------------------\n",
    "    # Figures for fgmax - max values on fixed grids\n",
    "    #-----------------------------------------\n",
    "    otherfigure = plotdata.new_otherfigure(name='max amplitude and arrival times', \n",
    "                    fname='amplitude_times.png')\n",
    "\n",
    "\n",
    "\n",
    "    #-----------------------------------------\n",
    "    \n",
    "    # Parameters used only when creating html and/or latex hardcopy\n",
    "    # e.g., via pyclaw.plotters.frametools.printframes:\n",
    "\n",
    "    plotdata.printfigs = True                # print figures\n",
    "    plotdata.print_format = 'png'            # file format\n",
    "    plotdata.print_framenos = 'all'          # list of frames to print\n",
    "    plotdata.print_gaugenos = 'all'          # list of gauges to print\n",
    "    plotdata.print_fignos = 'all'            # list of figures to print\n",
    "    plotdata.html = True                     # create html files of plots?\n",
    "    plotdata.html_homelink = '../README.html'   # pointer for top of index\n",
    "    plotdata.latex = True                    # create latex file of plots?\n",
    "    plotdata.latex_figsperline = 2           # layout of plots\n",
    "    plotdata.latex_framesperline = 1         # layout of plots\n",
    "    plotdata.latex_makepdf = False           # also run pdflatex?\n",
    "\n",
    "    return plotdata\n",
    "\n"
   ]
  },
  {
   "cell_type": "markdown",
   "metadata": {},
   "source": [
    "And again, we will use the **make plots** command from the **Makefile** to generate the figures defined in the **setplot.py** file (don't forget the \"!\" at the beginning)."
   ]
  },
  {
   "cell_type": "code",
   "execution_count": 16,
   "metadata": {
    "collapsed": false
   },
   "outputs": [
    {
     "name": "stdout",
     "output_type": "stream",
     "text": [
      "Makefile:187: warning: overriding commands for target `all'\n",
      "/home/jose/Downloads/clawpack-5.3.1//clawutil/src/Makefile.common:259: warning: ignoring old commands for target `all'\n",
      "rm -f .plots\n",
      "python /home/jose/Downloads/clawpack-5.3.1//visclaw/src/python/visclaw/plotclaw.py _output                _plots                setplot.py      \n",
      "Importing setplot.setplot from /home/jose/github/tsunami_workshop/en/tsunami.\n",
      "*** Could not load DART data file\n",
      "*** Could not load DART data file\n",
      "Executed setplot successfully\n",
      "Will plot 5 frames numbered: [1, 2, 3, 4, 5]\n",
      "Will make 1 figure(s) for each frame, numbered:  [0]\n",
      "\n",
      "-----------------------------------\n",
      "\n",
      "\n",
      "Creating html pages for figures...\n",
      "\n",
      "Directory '/home/jose/github/tsunami_workshop/en/tsunami/_plots' \n",
      "    already exists, files may be overwritten \n",
      "Now making png files for all figures...\n",
      "    Reading  Frame 1 at t = 7200  from outdir = /home/jose/github/tsunami_workshop/en/tsunami/_output\n",
      "Frame 1 at time t = 7200.0\n",
      "    Reading  Frame 2 at t = 14400  from outdir = /home/jose/github/tsunami_workshop/en/tsunami/_output\n",
      "Frame 2 at time t = 14400.0\n",
      "    Reading  Frame 3 at t = 21600  from outdir = /home/jose/github/tsunami_workshop/en/tsunami/_output\n",
      "Frame 3 at time t = 21600.0\n",
      "    Reading  Frame 4 at t = 28800  from outdir = /home/jose/github/tsunami_workshop/en/tsunami/_output\n",
      "Frame 4 at time t = 28800.0\n",
      "    Reading  Frame 5 at t = 36000  from outdir = /home/jose/github/tsunami_workshop/en/tsunami/_output\n",
      "Frame 5 at time t = 36000.0\n",
      "Reading gauge data from /home/jose/github/tsunami_workshop/en/tsunami/_output/fort.gauge\n",
      "In fort.gauge file, found gauge numbers [32412]\n",
      "Read in gauges [32412]\n",
      "Found data for Gauge 32412 \n",
      "\n",
      "-----------------------------------\n",
      "\n",
      "Creating latex file...\n",
      "Directory '/home/jose/github/tsunami_workshop/en/tsunami/_plots' \n",
      "    already exists, files may be overwritten \n",
      "\n",
      "Latex file created:  \n",
      "  /home/jose/github/tsunami_workshop/en/tsunami/_plots/plots.tex\n",
      "\n",
      "Use pdflatex to create pdf file\n",
      "Created JSAnimation for figure 0\n",
      "\n",
      "--------------------------------------------------------\n",
      "\n",
      "Point your browser to:\n",
      "    file:///home/jose/github/tsunami_workshop/en/tsunami/_plots/_PlotIndex.html\n"
     ]
    }
   ],
   "source": [
    "!make plots"
   ]
  },
  {
   "cell_type": "markdown",
   "metadata": {},
   "source": [
    "### The animation"
   ]
  },
  {
   "cell_type": "markdown",
   "metadata": {},
   "source": [
    "The animation that resulted from this *setplot.py* can be loaded here as an *iframe* element of IPython."
   ]
  },
  {
   "cell_type": "code",
   "execution_count": 17,
   "metadata": {
    "collapsed": false
   },
   "outputs": [
    {
     "data": {
      "text/html": [
       "\n",
       "        <iframe\n",
       "            width=\"600\"\n",
       "            height=\"600\"\n",
       "            src=\"_plots/movieframe_allframesfig0.html\"\n",
       "            frameborder=\"0\"\n",
       "            allowfullscreen\n",
       "        ></iframe>\n",
       "        "
      ],
      "text/plain": [
       "<IPython.lib.display.IFrame at 0x7fd024f8d0d0>"
      ]
     },
     "execution_count": 17,
     "metadata": {},
     "output_type": "execute_result"
    }
   ],
   "source": [
    "from IPython.display import IFrame\n",
    "IFrame('_plots/movieframe_allframesfig0.html',width=600, height=600)"
   ]
  },
  {
   "cell_type": "markdown",
   "metadata": {},
   "source": [
    "### The gauge\n",
    "\n",
    "The virtual gauge can be shown here using the Image command from IPython."
   ]
  },
  {
   "cell_type": "code",
   "execution_count": 18,
   "metadata": {
    "collapsed": false
   },
   "outputs": [
    {
     "data": {
      "image/png": "[encoded data removed]",
      "text/plain": [
       "<IPython.core.display.Image object>"
      ]
     },
     "execution_count": 18,
     "metadata": {
      "image/png": {
       "width": 600
      }
     },
     "output_type": "execute_result"
    }
   ],
   "source": [
    "from IPython.display import Image\n",
    "Image('_plots/gauge32412fig300.png', width=600)"
   ]
  },
  {
   "cell_type": "markdown",
   "metadata": {},
   "source": [
    "### Propagation map: Maximum heights and arrival times"
   ]
  },
  {
   "cell_type": "markdown",
   "metadata": {},
   "source": [
    "Finally, to generate the propagation map, we have to load the *fgmax* data we created before running the simulation"
   ]
  },
  {
   "cell_type": "code",
   "execution_count": 19,
   "metadata": {
    "collapsed": false
   },
   "outputs": [],
   "source": [
    "from clawpack.geoclaw import fgmax_tools, geoplot\n",
    "fg = fgmax_tools.FGmaxGrid()\n",
    "fg.read_input_data('fgmax_grid.txt')\n"
   ]
  },
  {
   "cell_type": "markdown",
   "metadata": {},
   "source": [
    "and with this we can read the generated output just by doing"
   ]
  },
  {
   "cell_type": "code",
   "execution_count": 20,
   "metadata": {
    "collapsed": false
   },
   "outputs": [
    {
     "name": "stdout",
     "output_type": "stream",
     "text": [
      "Reading _output/fort.FG1.valuemax ...\n",
      "Reading _output/fort.FG1.aux1 ...\n"
     ]
    }
   ],
   "source": [
    "fg.read_output()"
   ]
  },
  {
   "cell_type": "markdown",
   "metadata": {},
   "source": [
    "Notice that these results were stored in the *fort.FG1.valuemax* and *fort.FG1.aux1* files in the *_output* folder.\n",
    "\n",
    "Now we have load the data, we can produce a nice figure with the matplotlib.pyplot functions."
   ]
  },
  {
   "cell_type": "code",
   "execution_count": 21,
   "metadata": {
    "collapsed": false,
    "scrolled": false
   },
   "outputs": [
    {
     "data": {
      "text/plain": [
       "<matplotlib.text.Text at 0x7fd01dbe44d0>"
      ]
     },
     "execution_count": 21,
     "metadata": {},
     "output_type": "execute_result"
    },
    {
     "data": {
      "image/png": "[encoded data removed]",
      "text/plain": [
       "<matplotlib.figure.Figure at 0x7fd024145f50>"
      ]
     },
     "metadata": {},
     "output_type": "display_data"
    }
   ],
   "source": [
    "clines_zeta = [0.01] + list(np.linspace(0.05,0.3,6)) + [0.5,1.0,10.0]\n",
    "colors = geoplot.discrete_cmap_1(clines_zeta)\n",
    "\n",
    "\n",
    "plt.figure(figsize=(12,6))\n",
    "plt.clf()\n",
    "zeta = np.where(fg.B>0, fg.h, fg.h+fg.B)   # surface elevation in ocean\n",
    "plt.contourf(fg.X,fg.Y,zeta,clines_zeta,colors=colors)\n",
    "plt.colorbar()\n",
    "plt.contour(fg.X,fg.Y,fg.B,[0.],colors='k')  # coastline\n",
    "\n",
    "# plot arrival time contours and label:\n",
    "arrival_t = fg.arrival_time/3600.  # arrival time in hours\n",
    "clines_t = np.linspace(0,8,17)  # hours\n",
    "clines_t_label = clines_t[::2]  # which ones to label \n",
    "clines_t_colors = ([.5,.5,.5],)\n",
    "con_t = plt.contour(fg.X,fg.Y,arrival_t, clines_t,colors=clines_t_colors) \n",
    "plt.clabel(con_t, clines_t_label)\n",
    "\n",
    "# fix axes:\n",
    "plt.ticklabel_format(format='plain',useOffset=False)\n",
    "plt.xticks(rotation=20)\n",
    "plt.gca().set_aspect(1./np.cos(fg.Y.mean()*np.pi/180.))\n",
    "plt.title(\"Maximum amplitude [m] / arrival times [h]\")"
   ]
  },
  {
   "cell_type": "markdown",
   "metadata": {},
   "source": [
    "#### THE END"
   ]
  }
 ],
 "metadata": {
  "kernelspec": {
   "display_name": "Python 2",
   "language": "python",
   "name": "python2"
  },
  "language_info": {
   "codemirror_mode": {
    "name": "ipython",
    "version": 2
   },
   "file_extension": ".py",
   "mimetype": "text/x-python",
   "name": "python",
   "nbconvert_exporter": "python",
   "pygments_lexer": "ipython2",
   "version": "2.7.11"
  }
 },
 "nbformat": 4,
 "nbformat_minor": 0
}
