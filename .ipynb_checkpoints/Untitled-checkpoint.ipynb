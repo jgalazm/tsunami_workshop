{
 "cells": [
  {
   "cell_type": "code",
   "execution_count": 2,
   "metadata": {
    "collapsed": true
   },
   "outputs": [],
   "source": [
    "import matplotlib.pyplot as plt\n",
    "import numpy as np\n",
    "%matplotlib inline"
   ]
  },
  {
   "cell_type": "markdown",
   "metadata": {},
   "source": [
    "# Topografía"
   ]
  },
  {
   "cell_type": "code",
   "execution_count": 3,
   "metadata": {
    "collapsed": false
   },
   "outputs": [
    {
     "ename": "AttributeError",
     "evalue": "'module' object has no attribute 'get_remote_file'",
     "output_type": "error",
     "traceback": [
      "\u001b[1;31m---------------------------------------------------------------------------\u001b[0m",
      "\u001b[1;31mAttributeError\u001b[0m                            Traceback (most recent call last)",
      "\u001b[1;32m<ipython-input-3-7b57d55fd014>\u001b[0m in \u001b[0;36m<module>\u001b[1;34m()\u001b[0m\n\u001b[0;32m      2\u001b[0m \u001b[0mtopo_fname\u001b[0m \u001b[1;33m=\u001b[0m \u001b[1;34m'etopo10min120W60W60S0S.asc'\u001b[0m\u001b[1;33m\u001b[0m\u001b[0m\n\u001b[0;32m      3\u001b[0m \u001b[0murl\u001b[0m \u001b[1;33m=\u001b[0m \u001b[1;34m'http://www.geoclaw.org/topo/etopo/'\u001b[0m \u001b[1;33m+\u001b[0m \u001b[0mtopo_fname\u001b[0m\u001b[1;33m\u001b[0m\u001b[0m\n\u001b[1;32m----> 4\u001b[1;33m util.get_remote_file(url, output_dir=scratch_dir, file_name=topo_fname,\n\u001b[0m\u001b[0;32m      5\u001b[0m         verbose=True)\n",
      "\u001b[1;31mAttributeError\u001b[0m: 'module' object has no attribute 'get_remote_file'"
     ]
    }
   ],
   "source": [
    "from clawpack.geoclaw import topotools, util\n",
    "topo_fname = 'etopo10min120W60W60S0S.asc'\n",
    "url = 'http://www.geoclaw.org/topo/etopo/' + topo_fname\n",
    "util.get_remote_file(url, output_dir=scratch_dir, file_name=topo_fname,\n",
    "        verbose=True)\n"
   ]
  },
  {
   "cell_type": "code",
   "execution_count": null,
   "metadata": {
    "collapsed": true
   },
   "outputs": [],
   "source": [
    "import os,sys\n",
    "\n",
    "try:\n",
    "    CLAW = os.environ['CLAW']\n",
    "except:\n",
    "    raise Exception(\"*** Must first set CLAW enviornment variable\")\n",
    "\n",
    "# Scratch directory for storing topo and dtopo files:\n",
    "scratch_dir = os.path.join(CLAW, 'geoclaw', 'scratch')\n",
    "\n",
    "def get_topo(makeplots=False):\n",
    "    \"\"\"\n",
    "    Retrieve the topo file from the GeoClaw repository.\n",
    "    \"\"\"\n",
    "\n",
    "    if makeplots:\n",
    "        from matplotlib import pyplot as plt\n",
    "        topo = topotools.Topography(topo_fname, topo_type=2)\n",
    "        topo.plot()\n",
    "        fname = os.path.splitext(topo_fname)[0] + '.png'\n",
    "        plt.savefig(fname)\n",
    "        print \"Created \",fname\n",
    "\n",
    "\n",
    "    \n",
    "def make_dtopo(makeplots=False):\n",
    "    \"\"\"\n",
    "    Create dtopo data file for deformation of sea floor due to earthquake.\n",
    "    Uses the Okada model with fault parameters and mesh specified below.\n",
    "    \"\"\"\n",
    "    from clawpack.geoclaw import dtopotools\n",
    "    import numpy\n",
    "\n",
    "    dtopo_fname = os.path.join(scratch_dir, \"dtopo_usgs100227.tt3\")\n",
    "\n",
    "    # Specify subfault parameters for this simple fault model consisting\n",
    "    # of a single subfault:\n",
    "\n",
    "    usgs_subfault = dtopotools.SubFault()\n",
    "    usgs_subfault.strike = 16.\n",
    "    usgs_subfault.length = 450.e3\n",
    "    usgs_subfault.width = 100.e3\n",
    "    usgs_subfault.depth = 35.e3\n",
    "    usgs_subfault.slip = 15.\n",
    "    usgs_subfault.rake = 104.\n",
    "    usgs_subfault.dip = 14.\n",
    "    usgs_subfault.longitude = -72.668\n",
    "    usgs_subfault.latitude = -35.826\n",
    "    usgs_subfault.coordinate_specification = \"top center\"\n",
    "\n",
    "    fault = dtopotools.Fault()\n",
    "    fault.subfaults = [usgs_subfault]\n",
    "\n",
    "    print \"Mw = \",fault.Mw()\n",
    "\n",
    "    if os.path.exists(dtopo_fname):\n",
    "        print \"*** Not regenerating dtopo file (already exists): %s\" \\\n",
    "                    % dtopo_fname\n",
    "    else:\n",
    "        print \"Using Okada model to create dtopo file\"\n",
    "\n",
    "        x = numpy.linspace(-77, -67, 100)\n",
    "        y = numpy.linspace(-40, -30, 100)\n",
    "        times = [1.]\n",
    "\n",
    "        fault.create_dtopography(x,y,times)\n",
    "        dtopo = fault.dtopo\n",
    "        dtopo.write(dtopo_fname, dtopo_type=3)\n",
    "\n",
    "\n",
    "    if makeplots:\n",
    "        from matplotlib import pyplot as plt\n",
    "        if fault.dtopo is None:\n",
    "            # read in the pre-existing file:\n",
    "            print \"Reading in dtopo file...\"\n",
    "            dtopo = dtopotools.DTopography()\n",
    "            dtopo.read(dtopo_fname, dtopo_type=3)\n",
    "            x = dtopo.x\n",
    "            y = dtopo.y\n",
    "        plt.figure(figsize=(12,7))\n",
    "        ax1 = plt.subplot(121)\n",
    "        ax2 = plt.subplot(122)\n",
    "        fault.plot_subfaults(axes=ax1,slip_color=True)\n",
    "        ax1.set_xlim(x.min(),x.max())\n",
    "        ax1.set_ylim(y.min(),y.max())\n",
    "        dtopo.plot_dz_colors(1.,axes=ax2)\n",
    "        fname = os.path.splitext(dtopo_fname)[0] + '.png'\n",
    "        plt.savefig(fname)\n",
    "        print \"Created \",fname\n",
    "\n",
    "\n",
    "if __name__=='__main__':\n",
    "    get_topo(False)\n",
    "    make_dtopo(False)\n"
   ]
  }
 ],
 "metadata": {
  "kernelspec": {
   "display_name": "Python 2",
   "language": "python",
   "name": "python2"
  },
  "language_info": {
   "codemirror_mode": {
    "name": "ipython",
    "version": 2
   },
   "file_extension": ".py",
   "mimetype": "text/x-python",
   "name": "python",
   "nbconvert_exporter": "python",
   "pygments_lexer": "ipython2",
   "version": "2.7.10"
  }
 },
 "nbformat": 4,
 "nbformat_minor": 0
}
