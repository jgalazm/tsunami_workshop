{
 "cells": [
  {
   "cell_type": "markdown",
   "metadata": {},
   "source": [
    "# Taller de modelación con GeoClaw\n",
    "# Ejercicio: Añadiendo un muro de protección aguas abajo\n",
    "### Análisis y Diseño Hidráulico\n",
    "### Semestre 1, 2015\n",
    "### Ayudante: José Galaz"
   ]
  },
  {
   "cell_type": "markdown",
   "metadata": {},
   "source": [
    "##**Incorporación de un muro rectangular**\n",
    "\n",
    "\n",
    "2. Continúe este cuaderno y defina la función **topoconmuro** en la celda a continuación (reemplace el 'pass' por las instrucciones que correspondan) de forma que se añada un muro (como topografía) para $x\\in[50,55]$ e $y\\in[-75,25]$ con una altura de $15m$. La función debe ser capaz de recibir dos arreglos bidimensionales ($x$ e $y$) y retornar los valores de la topografía en un arreglo del mismo tamaño (copie y modifique el ejemplo).\n",
    "\n",
    "3. Continúe este cuaderno y defina una función **maketopoconmuro** que genere a partir de la función anterior el archivo de topografía  **'channel_conmuro.topotype2'** en el formato número 2 de GeoClaw. Genere un **gráfico** en planta de la nueva topografía.\n",
    "\n",
    "3. Continúe este cuaderno y defina la función **qinitconmuro** en la celda a continuación (reemplace el 'pass' por las instrucciones que correspondan) que permita definir la condición inicial en reposo, de forma que \n",
    "$$\n",
    "h(x,y) = \\left\\{\\begin{array}{cc}\n",
    "10 & \\text{ si } x\\leq 0 \\text{ y } z(x,y) = 0  \\\\\n",
    "5 & \\text{ si } x> 0 \\text{ y } z(x,y) = 0 \\\\\n",
    "0 & \\text{ si } z(x,y) \\neq 0\n",
    "\\end{array}\n",
    "\\right.\n",
    "$$\n",
    "\n",
    "3. Continúe este cuaderno y defina una función **makeqinitconmuro** que genere a partir de la función anterior el archivo de condición inicial  **'qinit_conmuro.topotype1'** en el formato número 1 de GeoClaw. Genere un **gráfico** en planta de la nueva condición inicial.\n",
    "\n",
    "5. Copie el setrun.py en una celda usando una función mágica de IPython. \n",
    "\n",
    "6. Edite el setrun.py apropiadamente para que hayan en total 3 niveles de refinamiento con razones $$ r_x = r_y = [4,2]$$\n",
    "\n",
    "7. Defina en el setrun.py 3 regiones de refinamiento que satisfagan las condiciones\n",
    " 1. Una región que asigne nivelmínimo = nivel máximo = 1 a todo el dominio.\n",
    " 2. Una región que permita que alrededor del muro de la represa, para $x\\in[-10,10]$  e $y\\in[-100,100]$, siempre haya resolución de al menos el nivel 2.\n",
    " 3. Una región que cubra la ubicación del nuevo muro en $\\pm 10$ metros en las direcciones $x$ e $y$.\n",
    "8. En otra celda, corra la simulación, obtenga los resultados 2D y puntuales (limnigramas/hidrogramas) en los puntos del ejemplo, y compare con el caso sin muro aguas abajo.\n",
    "\n",
    "**HINT: Copie y modifique las funciones que ya existen en el cuaderno de ejemplo **\n",
    "\n",
    "** Recomendación: Copie los directorios _output y _plots en nuevas carpetas _output0, _plots0 por ejemplo, para no perder los resultados de la simulación anterior, puede hacer esto ejecutando la celda de abajo **"
   ]
  },
  {
   "cell_type": "code",
   "execution_count": null,
   "metadata": {
    "collapsed": false
   },
   "outputs": [],
   "source": [
    "#mover\n",
    "!mv  _plots _plots0\n",
    "!mv  _output _output0"
   ]
  },
  {
   "cell_type": "code",
   "execution_count": null,
   "metadata": {
    "collapsed": true
   },
   "outputs": [],
   "source": [
    "def topoconmuro(x,y):\n",
    "    pass\n",
    "def qinitconmuro(x,y):\n",
    "    pass\n",
    "def maketopoconmuro():\n",
    "    pass\n",
    "def makeqinitconmuro():\n",
    "    pass\n",
    "maketopoconmuro()\n",
    "makeqinitconmuro()"
   ]
  }
 ],
 "metadata": {
  "kernelspec": {
   "display_name": "Python 2",
   "language": "python",
   "name": "python2"
  },
  "language_info": {
   "codemirror_mode": {
    "name": "ipython",
    "version": 2
   },
   "file_extension": ".py",
   "mimetype": "text/x-python",
   "name": "python",
   "nbconvert_exporter": "python",
   "pygments_lexer": "ipython2",
   "version": "2.7.9"
  }
 },
 "nbformat": 4,
 "nbformat_minor": 0
}
